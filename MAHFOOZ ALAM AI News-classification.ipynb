{
 "cells": [
  {
   "cell_type": "code",
   "execution_count": 1,
   "id": "b5baec2d",
   "metadata": {},
   "outputs": [
    {
     "name": "stdout",
     "output_type": "stream",
     "text": [
      "Requirement already satisfied: nltk in c:\\users\\mahfooz alam\\anaconda3\\lib\\site-packages (3.7)\n",
      "Requirement already satisfied: regex>=2021.8.3 in c:\\users\\mahfooz alam\\anaconda3\\lib\\site-packages (from nltk) (2022.7.9)\n",
      "Requirement already satisfied: tqdm in c:\\users\\mahfooz alam\\anaconda3\\lib\\site-packages (from nltk) (4.64.1)\n",
      "Requirement already satisfied: click in c:\\users\\mahfooz alam\\anaconda3\\lib\\site-packages (from nltk) (8.0.4)\n",
      "Requirement already satisfied: joblib in c:\\users\\mahfooz alam\\anaconda3\\lib\\site-packages (from nltk) (1.1.0)\n",
      "Requirement already satisfied: colorama in c:\\users\\mahfooz alam\\anaconda3\\lib\\site-packages (from click->nltk) (0.4.5)\n",
      "Note: you may need to restart the kernel to use updated packages.\n"
     ]
    }
   ],
   "source": [
    "pip install nltk"
   ]
  },
  {
   "cell_type": "code",
   "execution_count": 2,
   "id": "1506ce72",
   "metadata": {},
   "outputs": [],
   "source": [
    "import nltk\n",
    "import os"
   ]
  },
  {
   "cell_type": "code",
   "execution_count": 3,
   "id": "d7630b76",
   "metadata": {},
   "outputs": [
    {
     "data": {
      "text/plain": [
       "'C:\\\\Users\\\\MAHFOOZ ALAM'"
      ]
     },
     "execution_count": 3,
     "metadata": {},
     "output_type": "execute_result"
    }
   ],
   "source": [
    "os.getcwd()"
   ]
  },
  {
   "cell_type": "code",
   "execution_count": 4,
   "id": "45568378",
   "metadata": {},
   "outputs": [],
   "source": [
    "os.chdir(\"C:\\\\Users\\\\MAHFOOZ ALAM\\\\Desktop\\\\Important File\\\\course_video_file_80_1675409214\")"
   ]
  },
  {
   "cell_type": "code",
   "execution_count": 5,
   "id": "a1831d13",
   "metadata": {},
   "outputs": [
    {
     "data": {
      "text/plain": [
       "'C:\\\\Users\\\\MAHFOOZ ALAM\\\\Desktop\\\\Important File\\\\course_video_file_80_1675409214'"
      ]
     },
     "execution_count": 5,
     "metadata": {},
     "output_type": "execute_result"
    }
   ],
   "source": [
    "os.getcwd()"
   ]
  },
  {
   "cell_type": "code",
   "execution_count": 6,
   "id": "6bb313bd",
   "metadata": {},
   "outputs": [
    {
     "name": "stderr",
     "output_type": "stream",
     "text": [
      "[nltk_data] Downloading package punkt to C:\\Users\\MAHFOOZ\n",
      "[nltk_data]     ALAM\\AppData\\Roaming\\nltk_data...\n",
      "[nltk_data]   Package punkt is already up-to-date!\n"
     ]
    },
    {
     "data": {
      "text/plain": [
       "True"
      ]
     },
     "execution_count": 6,
     "metadata": {},
     "output_type": "execute_result"
    }
   ],
   "source": [
    "nltk. download ('punkt')"
   ]
  },
  {
   "cell_type": "code",
   "execution_count": 7,
   "id": "0f20b1ab",
   "metadata": {},
   "outputs": [],
   "source": [
    "import pandas as pd"
   ]
  },
  {
   "cell_type": "code",
   "execution_count": 8,
   "id": "c2dab919",
   "metadata": {
    "scrolled": false
   },
   "outputs": [],
   "source": [
    "chunks = pd.read_csv (\"Fake News Data Set.csv\", chunksize= 10000, usecols=['title','text','subject','date'])\n",
    "for chunk in chunks:\n",
    "    fake = pd.DataFrame(chunk)\n",
    "genuine = pd.read_csv(\"True News Data Set.csv\")"
   ]
  },
  {
   "cell_type": "code",
   "execution_count": 9,
   "id": "1657cbef",
   "metadata": {},
   "outputs": [
    {
     "name": "stdout",
     "output_type": "stream",
     "text": [
      "<class 'pandas.core.frame.DataFrame'>\n",
      "RangeIndex: 3502 entries, 20000 to 23501\n",
      "Data columns (total 4 columns):\n",
      " #   Column   Non-Null Count  Dtype \n",
      "---  ------   --------------  ----- \n",
      " 0   title    3502 non-null   object\n",
      " 1   text     3502 non-null   object\n",
      " 2   subject  3486 non-null   object\n",
      " 3   date     3486 non-null   object\n",
      "dtypes: object(4)\n",
      "memory usage: 109.6+ KB\n"
     ]
    },
    {
     "data": {
      "text/plain": [
       "None"
      ]
     },
     "metadata": {},
     "output_type": "display_data"
    }
   ],
   "source": [
    "display(fake.info()) "
   ]
  },
  {
   "cell_type": "code",
   "execution_count": 10,
   "id": "27ba9e1b",
   "metadata": {},
   "outputs": [
    {
     "name": "stdout",
     "output_type": "stream",
     "text": [
      "<class 'pandas.core.frame.DataFrame'>\n",
      "RangeIndex: 21417 entries, 0 to 21416\n",
      "Data columns (total 4 columns):\n",
      " #   Column   Non-Null Count  Dtype \n",
      "---  ------   --------------  ----- \n",
      " 0   title    21417 non-null  object\n",
      " 1   text     21417 non-null  object\n",
      " 2   subject  21417 non-null  object\n",
      " 3   date     21417 non-null  object\n",
      "dtypes: object(4)\n",
      "memory usage: 669.4+ KB\n"
     ]
    },
    {
     "data": {
      "text/plain": [
       "None"
      ]
     },
     "metadata": {},
     "output_type": "display_data"
    }
   ],
   "source": [
    "display(genuine.info())"
   ]
  },
  {
   "cell_type": "code",
   "execution_count": 11,
   "id": "d07f8c53",
   "metadata": {},
   "outputs": [
    {
     "data": {
      "text/html": [
       "<div>\n",
       "<style scoped>\n",
       "    .dataframe tbody tr th:only-of-type {\n",
       "        vertical-align: middle;\n",
       "    }\n",
       "\n",
       "    .dataframe tbody tr th {\n",
       "        vertical-align: top;\n",
       "    }\n",
       "\n",
       "    .dataframe thead th {\n",
       "        text-align: right;\n",
       "    }\n",
       "</style>\n",
       "<table border=\"1\" class=\"dataframe\">\n",
       "  <thead>\n",
       "    <tr style=\"text-align: right;\">\n",
       "      <th></th>\n",
       "      <th>title</th>\n",
       "      <th>text</th>\n",
       "      <th>subject</th>\n",
       "      <th>date</th>\n",
       "    </tr>\n",
       "  </thead>\n",
       "  <tbody>\n",
       "    <tr>\n",
       "      <th>0</th>\n",
       "      <td>As U.S. budget fight looms, Republicans flip t...</td>\n",
       "      <td>WASHINGTON (Reuters) - The head of a conservat...</td>\n",
       "      <td>politicsNews</td>\n",
       "      <td>December 31, 2017</td>\n",
       "    </tr>\n",
       "    <tr>\n",
       "      <th>1</th>\n",
       "      <td>U.S. military to accept transgender recruits o...</td>\n",
       "      <td>WASHINGTON (Reuters) - Transgender people will...</td>\n",
       "      <td>politicsNews</td>\n",
       "      <td>December 29, 2017</td>\n",
       "    </tr>\n",
       "    <tr>\n",
       "      <th>2</th>\n",
       "      <td>Senior U.S. Republican senator: 'Let Mr. Muell...</td>\n",
       "      <td>WASHINGTON (Reuters) - The special counsel inv...</td>\n",
       "      <td>politicsNews</td>\n",
       "      <td>December 31, 2017</td>\n",
       "    </tr>\n",
       "    <tr>\n",
       "      <th>3</th>\n",
       "      <td>FBI Russia probe helped by Australian diplomat...</td>\n",
       "      <td>WASHINGTON (Reuters) - Trump campaign adviser ...</td>\n",
       "      <td>politicsNews</td>\n",
       "      <td>December 30, 2017</td>\n",
       "    </tr>\n",
       "    <tr>\n",
       "      <th>4</th>\n",
       "      <td>Trump wants Postal Service to charge 'much mor...</td>\n",
       "      <td>SEATTLE/WASHINGTON (Reuters) - President Donal...</td>\n",
       "      <td>politicsNews</td>\n",
       "      <td>December 29, 2017</td>\n",
       "    </tr>\n",
       "    <tr>\n",
       "      <th>5</th>\n",
       "      <td>White House, Congress prepare for talks on spe...</td>\n",
       "      <td>WEST PALM BEACH, Fla./WASHINGTON (Reuters) - T...</td>\n",
       "      <td>politicsNews</td>\n",
       "      <td>December 29, 2017</td>\n",
       "    </tr>\n",
       "    <tr>\n",
       "      <th>6</th>\n",
       "      <td>Trump says Russia probe will be fair, but time...</td>\n",
       "      <td>WEST PALM BEACH, Fla (Reuters) - President Don...</td>\n",
       "      <td>politicsNews</td>\n",
       "      <td>December 29, 2017</td>\n",
       "    </tr>\n",
       "    <tr>\n",
       "      <th>7</th>\n",
       "      <td>Factbox: Trump on Twitter (Dec 29) - Approval ...</td>\n",
       "      <td>The following statements¬†were posted to the v...</td>\n",
       "      <td>politicsNews</td>\n",
       "      <td>December 29, 2017</td>\n",
       "    </tr>\n",
       "    <tr>\n",
       "      <th>8</th>\n",
       "      <td>Trump on Twitter (Dec 28) - Global Warming</td>\n",
       "      <td>The following statements¬†were posted to the v...</td>\n",
       "      <td>politicsNews</td>\n",
       "      <td>December 29, 2017</td>\n",
       "    </tr>\n",
       "    <tr>\n",
       "      <th>9</th>\n",
       "      <td>Alabama official to certify Senator-elect Jone...</td>\n",
       "      <td>WASHINGTON (Reuters) - Alabama Secretary of St...</td>\n",
       "      <td>politicsNews</td>\n",
       "      <td>December 28, 2017</td>\n",
       "    </tr>\n",
       "  </tbody>\n",
       "</table>\n",
       "</div>"
      ],
      "text/plain": [
       "                                               title  \\\n",
       "0  As U.S. budget fight looms, Republicans flip t...   \n",
       "1  U.S. military to accept transgender recruits o...   \n",
       "2  Senior U.S. Republican senator: 'Let Mr. Muell...   \n",
       "3  FBI Russia probe helped by Australian diplomat...   \n",
       "4  Trump wants Postal Service to charge 'much mor...   \n",
       "5  White House, Congress prepare for talks on spe...   \n",
       "6  Trump says Russia probe will be fair, but time...   \n",
       "7  Factbox: Trump on Twitter (Dec 29) - Approval ...   \n",
       "8         Trump on Twitter (Dec 28) - Global Warming   \n",
       "9  Alabama official to certify Senator-elect Jone...   \n",
       "\n",
       "                                                text       subject  \\\n",
       "0  WASHINGTON (Reuters) - The head of a conservat...  politicsNews   \n",
       "1  WASHINGTON (Reuters) - Transgender people will...  politicsNews   \n",
       "2  WASHINGTON (Reuters) - The special counsel inv...  politicsNews   \n",
       "3  WASHINGTON (Reuters) - Trump campaign adviser ...  politicsNews   \n",
       "4  SEATTLE/WASHINGTON (Reuters) - President Donal...  politicsNews   \n",
       "5  WEST PALM BEACH, Fla./WASHINGTON (Reuters) - T...  politicsNews   \n",
       "6  WEST PALM BEACH, Fla (Reuters) - President Don...  politicsNews   \n",
       "7  The following statements¬†were posted to the v...  politicsNews   \n",
       "8  The following statements¬†were posted to the v...  politicsNews   \n",
       "9  WASHINGTON (Reuters) - Alabama Secretary of St...  politicsNews   \n",
       "\n",
       "                 date  \n",
       "0  December 31, 2017   \n",
       "1  December 29, 2017   \n",
       "2  December 31, 2017   \n",
       "3  December 30, 2017   \n",
       "4  December 29, 2017   \n",
       "5  December 29, 2017   \n",
       "6  December 29, 2017   \n",
       "7  December 29, 2017   \n",
       "8  December 29, 2017   \n",
       "9  December 28, 2017   "
      ]
     },
     "metadata": {},
     "output_type": "display_data"
    }
   ],
   "source": [
    "display(genuine.head(10))"
   ]
  },
  {
   "cell_type": "code",
   "execution_count": 12,
   "id": "88202f13",
   "metadata": {},
   "outputs": [
    {
     "data": {
      "text/plain": [
       "left-news                                                                                                                                                                                                                                                                                       1925\n",
       "US_News                                                                                                                                                                                                                                                                                          775\n",
       "Middle-east                                                                                                                                                                                                                                                                                      770\n",
       " claimed that hundreds of alternative media websites were producing  fake news  and  conspiracy  stories and therefore were unreliable as information sources. It wasn t long before the establishment began referencing these politicized lists                                                   2\n",
       " and so is Mr. Katzenbach                                                                                                                                                                                                                                                                          2\n",
       " fell 5.6 percent Monday. Wynn Resortsslipped 1.2 percent. Las Vegas Sands fell as much as 2.1 percent before closing higher.   LIVE DRILL    Las Vegas has been at the forefront of active shooter training. ( Image Source: sinclairstoryline)Las Vegas Active Shooter Drills Back in 2014       2\n",
       " state systems with outsized pretensions to power have reacted to their environments in two ways. The first strategy                                                                                                                                                                               2\n",
       " decided not to seek re-election. While much of the mainstream media waxed poetic about his 30-year career                                                                                                                                                                                         2\n",
       " the defense industry                                                                                                                                                                                                                                                                              2\n",
       " Karl Marx is either a villain or a hero of social engineering                                                                                                                                                                                                                                     2\n",
       " a future nuclear family                                                                                                                                                                                                                                                                           2\n",
       "Name: subject, dtype: int64"
      ]
     },
     "metadata": {},
     "output_type": "display_data"
    }
   ],
   "source": [
    "display(fake.subject.value_counts())"
   ]
  },
  {
   "cell_type": "code",
   "execution_count": 13,
   "id": "8045a57e",
   "metadata": {},
   "outputs": [],
   "source": [
    "fake['target']=0\n",
    "genuine['target']=1"
   ]
  },
  {
   "cell_type": "code",
   "execution_count": 14,
   "id": "af25fcba",
   "metadata": {},
   "outputs": [
    {
     "data": {
      "text/html": [
       "<div>\n",
       "<style scoped>\n",
       "    .dataframe tbody tr th:only-of-type {\n",
       "        vertical-align: middle;\n",
       "    }\n",
       "\n",
       "    .dataframe tbody tr th {\n",
       "        vertical-align: top;\n",
       "    }\n",
       "\n",
       "    .dataframe thead th {\n",
       "        text-align: right;\n",
       "    }\n",
       "</style>\n",
       "<table border=\"1\" class=\"dataframe\">\n",
       "  <thead>\n",
       "    <tr style=\"text-align: right;\">\n",
       "      <th></th>\n",
       "      <th>title</th>\n",
       "      <th>text</th>\n",
       "      <th>subject</th>\n",
       "      <th>date</th>\n",
       "      <th>target</th>\n",
       "    </tr>\n",
       "  </thead>\n",
       "  <tbody>\n",
       "    <tr>\n",
       "      <th>0</th>\n",
       "      <td>As U.S. budget fight looms, Republicans flip t...</td>\n",
       "      <td>WASHINGTON (Reuters) - The head of a conservat...</td>\n",
       "      <td>politicsNews</td>\n",
       "      <td>December 31, 2017</td>\n",
       "      <td>1</td>\n",
       "    </tr>\n",
       "    <tr>\n",
       "      <th>1</th>\n",
       "      <td>U.S. military to accept transgender recruits o...</td>\n",
       "      <td>WASHINGTON (Reuters) - Transgender people will...</td>\n",
       "      <td>politicsNews</td>\n",
       "      <td>December 29, 2017</td>\n",
       "      <td>1</td>\n",
       "    </tr>\n",
       "    <tr>\n",
       "      <th>2</th>\n",
       "      <td>Senior U.S. Republican senator: 'Let Mr. Muell...</td>\n",
       "      <td>WASHINGTON (Reuters) - The special counsel inv...</td>\n",
       "      <td>politicsNews</td>\n",
       "      <td>December 31, 2017</td>\n",
       "      <td>1</td>\n",
       "    </tr>\n",
       "    <tr>\n",
       "      <th>3</th>\n",
       "      <td>FBI Russia probe helped by Australian diplomat...</td>\n",
       "      <td>WASHINGTON (Reuters) - Trump campaign adviser ...</td>\n",
       "      <td>politicsNews</td>\n",
       "      <td>December 30, 2017</td>\n",
       "      <td>1</td>\n",
       "    </tr>\n",
       "    <tr>\n",
       "      <th>4</th>\n",
       "      <td>Trump wants Postal Service to charge 'much mor...</td>\n",
       "      <td>SEATTLE/WASHINGTON (Reuters) - President Donal...</td>\n",
       "      <td>politicsNews</td>\n",
       "      <td>December 29, 2017</td>\n",
       "      <td>1</td>\n",
       "    </tr>\n",
       "    <tr>\n",
       "      <th>5</th>\n",
       "      <td>White House, Congress prepare for talks on spe...</td>\n",
       "      <td>WEST PALM BEACH, Fla./WASHINGTON (Reuters) - T...</td>\n",
       "      <td>politicsNews</td>\n",
       "      <td>December 29, 2017</td>\n",
       "      <td>1</td>\n",
       "    </tr>\n",
       "    <tr>\n",
       "      <th>6</th>\n",
       "      <td>Trump says Russia probe will be fair, but time...</td>\n",
       "      <td>WEST PALM BEACH, Fla (Reuters) - President Don...</td>\n",
       "      <td>politicsNews</td>\n",
       "      <td>December 29, 2017</td>\n",
       "      <td>1</td>\n",
       "    </tr>\n",
       "    <tr>\n",
       "      <th>7</th>\n",
       "      <td>Factbox: Trump on Twitter (Dec 29) - Approval ...</td>\n",
       "      <td>The following statements¬†were posted to the v...</td>\n",
       "      <td>politicsNews</td>\n",
       "      <td>December 29, 2017</td>\n",
       "      <td>1</td>\n",
       "    </tr>\n",
       "    <tr>\n",
       "      <th>8</th>\n",
       "      <td>Trump on Twitter (Dec 28) - Global Warming</td>\n",
       "      <td>The following statements¬†were posted to the v...</td>\n",
       "      <td>politicsNews</td>\n",
       "      <td>December 29, 2017</td>\n",
       "      <td>1</td>\n",
       "    </tr>\n",
       "    <tr>\n",
       "      <th>9</th>\n",
       "      <td>Alabama official to certify Senator-elect Jone...</td>\n",
       "      <td>WASHINGTON (Reuters) - Alabama Secretary of St...</td>\n",
       "      <td>politicsNews</td>\n",
       "      <td>December 28, 2017</td>\n",
       "      <td>1</td>\n",
       "    </tr>\n",
       "  </tbody>\n",
       "</table>\n",
       "</div>"
      ],
      "text/plain": [
       "                                               title  \\\n",
       "0  As U.S. budget fight looms, Republicans flip t...   \n",
       "1  U.S. military to accept transgender recruits o...   \n",
       "2  Senior U.S. Republican senator: 'Let Mr. Muell...   \n",
       "3  FBI Russia probe helped by Australian diplomat...   \n",
       "4  Trump wants Postal Service to charge 'much mor...   \n",
       "5  White House, Congress prepare for talks on spe...   \n",
       "6  Trump says Russia probe will be fair, but time...   \n",
       "7  Factbox: Trump on Twitter (Dec 29) - Approval ...   \n",
       "8         Trump on Twitter (Dec 28) - Global Warming   \n",
       "9  Alabama official to certify Senator-elect Jone...   \n",
       "\n",
       "                                                text       subject  \\\n",
       "0  WASHINGTON (Reuters) - The head of a conservat...  politicsNews   \n",
       "1  WASHINGTON (Reuters) - Transgender people will...  politicsNews   \n",
       "2  WASHINGTON (Reuters) - The special counsel inv...  politicsNews   \n",
       "3  WASHINGTON (Reuters) - Trump campaign adviser ...  politicsNews   \n",
       "4  SEATTLE/WASHINGTON (Reuters) - President Donal...  politicsNews   \n",
       "5  WEST PALM BEACH, Fla./WASHINGTON (Reuters) - T...  politicsNews   \n",
       "6  WEST PALM BEACH, Fla (Reuters) - President Don...  politicsNews   \n",
       "7  The following statements¬†were posted to the v...  politicsNews   \n",
       "8  The following statements¬†were posted to the v...  politicsNews   \n",
       "9  WASHINGTON (Reuters) - Alabama Secretary of St...  politicsNews   \n",
       "\n",
       "                 date  target  \n",
       "0  December 31, 2017        1  \n",
       "1  December 29, 2017        1  \n",
       "2  December 31, 2017        1  \n",
       "3  December 30, 2017        1  \n",
       "4  December 29, 2017        1  \n",
       "5  December 29, 2017        1  \n",
       "6  December 29, 2017        1  \n",
       "7  December 29, 2017        1  \n",
       "8  December 29, 2017        1  \n",
       "9  December 28, 2017        1  "
      ]
     },
     "metadata": {},
     "output_type": "display_data"
    }
   ],
   "source": [
    "display(genuine.head(10))"
   ]
  },
  {
   "cell_type": "code",
   "execution_count": 15,
   "id": "dd2f278d",
   "metadata": {},
   "outputs": [],
   "source": [
    "data = pd.concat([fake,genuine], axis=0)"
   ]
  },
  {
   "cell_type": "code",
   "execution_count": 16,
   "id": "774d1aa8",
   "metadata": {},
   "outputs": [],
   "source": [
    "#date = date.reset_index(drop=True)"
   ]
  },
  {
   "cell_type": "code",
   "execution_count": 17,
   "id": "eea35027",
   "metadata": {},
   "outputs": [],
   "source": [
    "data= data.drop(['subject','date','title'], axis=1)"
   ]
  },
  {
   "cell_type": "code",
   "execution_count": 18,
   "id": "87867a40",
   "metadata": {},
   "outputs": [
    {
     "name": "stdout",
     "output_type": "stream",
     "text": [
      "Index(['text', 'target'], dtype='object')\n"
     ]
    }
   ],
   "source": [
    "print(data.columns)"
   ]
  },
  {
   "cell_type": "code",
   "execution_count": 19,
   "id": "0e0d16b6",
   "metadata": {},
   "outputs": [],
   "source": [
    "from nltk.tokenize import word_tokenize"
   ]
  },
  {
   "cell_type": "code",
   "execution_count": 20,
   "id": "3830782a",
   "metadata": {},
   "outputs": [],
   "source": [
    "data['text']=data['text'].apply(word_tokenize)"
   ]
  },
  {
   "cell_type": "code",
   "execution_count": 21,
   "id": "1725ac32",
   "metadata": {},
   "outputs": [
    {
     "name": "stdout",
     "output_type": "stream",
     "text": [
      "                                                    text  target\n",
      "20000  [Dallas, Police, Officer, Dan, Cincinnatus, wr...       0\n",
      "20001  [It, s, time, for, the, media, to, start, doin...       0\n",
      "20002  [The, applications, for, White, House, interns...       0\n",
      "20003  [The, Obama, s, have, convinced, Black, commun...       0\n",
      "20004  [The, way, Trump, is, packing, in, thousands, ...       0\n",
      "20005  [*, *, *, WARNING, *, *, *, If, you, watch, th...       0\n",
      "20006  [The, arrogance, of, Bill, Clinton, is, astoun...       0\n",
      "20007  [Malia, Obama, is, taking, a, party, gap, year...       0\n",
      "20008  [Feel, good, video, of, the, day, A, female, I...       0\n",
      "20009  [About, a, month, ago, ,, people, started, not...       0\n"
     ]
    }
   ],
   "source": [
    "print(data.head(10))"
   ]
  },
  {
   "cell_type": "code",
   "execution_count": 22,
   "id": "dfba1ea6",
   "metadata": {},
   "outputs": [],
   "source": [
    "from nltk.stem.snowball import SnowballStemmer\n",
    "porter = SnowballStemmer(\"english\")"
   ]
  },
  {
   "cell_type": "code",
   "execution_count": 23,
   "id": "6509bce3",
   "metadata": {},
   "outputs": [],
   "source": [
    "def stem_it(text):\n",
    "    return [porter .stem(word) for word in text]"
   ]
  },
  {
   "cell_type": "code",
   "execution_count": 24,
   "id": "15a4a474",
   "metadata": {},
   "outputs": [],
   "source": [
    "data['text']=data['text'].apply(stem_it)"
   ]
  },
  {
   "cell_type": "code",
   "execution_count": 25,
   "id": "9f5c0b01",
   "metadata": {},
   "outputs": [
    {
     "name": "stdout",
     "output_type": "stream",
     "text": [
      "                                                    text  target\n",
      "20000  [dalla, polic, offic, dan, cincinnatus, wrote,...       0\n",
      "20001  [it, s, time, for, the, media, to, start, do, ...       0\n",
      "20002  [the, applic, for, white, hous, intern, just, ...       0\n",
      "20003  [the, obama, s, have, convinc, black, communit...       0\n",
      "20004  [the, way, trump, is, pack, in, thousand, of, ...       0\n",
      "20005  [*, *, *, warn, *, *, *, if, you, watch, this,...       0\n",
      "20006  [the, arrog, of, bill, clinton, is, astound, ....       0\n",
      "20007  [malia, obama, is, take, a, parti, gap, year, ...       0\n",
      "20008  [feel, good, video, of, the, day, a, femal, is...       0\n",
      "20009  [about, a, month, ago, ,, peopl, start, notic,...       0\n"
     ]
    }
   ],
   "source": [
    "print(data.head(10))"
   ]
  },
  {
   "cell_type": "code",
   "execution_count": 26,
   "id": "d4ea3fa3",
   "metadata": {},
   "outputs": [],
   "source": [
    "def stop_it(t):\n",
    "    dt=[word for word in t if len(word)>2]\n",
    "    return dt"
   ]
  },
  {
   "cell_type": "code",
   "execution_count": 27,
   "id": "5d8d1d69",
   "metadata": {},
   "outputs": [],
   "source": [
    "data['text']=data['text'].apply(stop_it)"
   ]
  },
  {
   "cell_type": "code",
   "execution_count": 28,
   "id": "899af32e",
   "metadata": {},
   "outputs": [
    {
     "name": "stdout",
     "output_type": "stream",
     "text": [
      "                                                    text  target\n",
      "20000  [dalla, polic, offic, dan, cincinnatus, wrote,...       0\n",
      "20001  [time, for, the, media, start, their, job, ins...       0\n",
      "20002  [the, applic, for, white, hous, intern, just, ...       0\n",
      "20003  [the, obama, have, convinc, black, communiti, ...       0\n",
      "20004  [the, way, trump, pack, thousand, support, eve...       0\n",
      "20005  [warn, you, watch, this, video, you, will, enc...       0\n",
      "20006  [the, arrog, bill, clinton, astound, while, ad...       0\n",
      "20007  [malia, obama, take, parti, gap, year, befor, ...       0\n",
      "20008  [feel, good, video, the, day, femal, isi, recr...       0\n",
      "20009  [about, month, ago, peopl, start, notic, larg,...       0\n"
     ]
    }
   ],
   "source": [
    "print(data.head(10))"
   ]
  },
  {
   "cell_type": "code",
   "execution_count": 29,
   "id": "7ea55f0d",
   "metadata": {},
   "outputs": [],
   "source": [
    "data['text']=data['text'].apply(''.join)"
   ]
  },
  {
   "cell_type": "code",
   "execution_count": 30,
   "id": "9726bb92",
   "metadata": {},
   "outputs": [
    {
     "data": {
      "text/plain": [
       "20829    genevareutersyriaoppositmustacceptthattheyhave...\n",
       "10263    washingtonreuterthelistpeoplincluddissidpresid...\n",
       "20003    theobamahaveconvincblackcommunitiacrossamerica...\n",
       "10449    reutertheu.s.senatbankcommittehassetheardatefo...\n",
       "20042    communismbeginwhereatheismbegin-karlmarxearthi...\n",
       "Name: text, dtype: object"
      ]
     },
     "metadata": {},
     "output_type": "display_data"
    },
    {
     "name": "stdout",
     "output_type": "stream",
     "text": [
      "\n",
      "\n"
     ]
    },
    {
     "data": {
      "text/plain": [
       "20829    1\n",
       "10263    1\n",
       "20003    0\n",
       "10449    1\n",
       "20042    0\n",
       "Name: target, dtype: int64"
      ]
     },
     "metadata": {},
     "output_type": "display_data"
    }
   ],
   "source": [
    "from sklearn.model_selection import train_test_split\n",
    "X_train,X_test,y_train,y_test=train_test_split(data['text'],data['target'], test_size=0.25)\n",
    "display(X_train.head())\n",
    "print('\\n')\n",
    "display(y_train.head())"
   ]
  },
  {
   "cell_type": "code",
   "execution_count": 31,
   "id": "817d2c5d",
   "metadata": {},
   "outputs": [],
   "source": [
    "from sklearn.feature_extraction.text import TfidfVectorizer\n",
    "my_tfidf = TfidfVectorizer( max_df=0.7)\n",
    "\n",
    "tfidf_train = my_tfidf.fit_transform(X_train)\n",
    "tfidf_test = my_tfidf.transform(X_test)"
   ]
  },
  {
   "cell_type": "code",
   "execution_count": 32,
   "id": "7317566a",
   "metadata": {},
   "outputs": [
    {
     "name": "stdout",
     "output_type": "stream",
     "text": [
      "  (0, 149689)\t0.28566712739848993\n",
      "  (0, 149674)\t0.28566712739848993\n",
      "  (0, 149914)\t0.28566712739848993\n",
      "  (0, 40031)\t0.28566712739848993\n",
      "  (0, 131377)\t0.28566712739848993\n",
      "  (0, 128826)\t0.28566712739848993\n",
      "  (0, 60991)\t0.28566712739848993\n",
      "  (0, 63898)\t0.28566712739848993\n",
      "  (0, 99391)\t0.28566712739848993\n",
      "  (0, 24550)\t0.28566712739848993\n",
      "  (0, 62553)\t0.28566712739848993\n",
      "  (0, 21544)\t0.14398440153967842\n",
      "  (0, 60224)\t0.28566712739848993\n",
      "  (1, 212500)\t0.38560334431283855\n",
      "  (1, 33817)\t0.38560334431283855\n",
      "  (1, 245824)\t0.38560334431283855\n",
      "  (1, 205856)\t0.3284210180980003\n",
      "  (1, 89231)\t0.38560334431283855\n",
      "  (1, 254454)\t0.38560334431283855\n",
      "  (1, 143483)\t0.38560334431283855\n",
      "  (2, 144309)\t0.4578956476818914\n",
      "  (2, 93665)\t0.5033705689213804\n",
      "  (2, 148083)\t0.1737405734573213\n",
      "  (2, 123580)\t0.5033705689213804\n",
      "  (2, 131054)\t0.5033705689213804\n",
      "  :\t:\n",
      "  (18686, 76401)\t0.28004576701059436\n",
      "  (18686, 83541)\t0.28004576701059436\n",
      "  (18686, 46266)\t0.28004576701059436\n",
      "  (18686, 20593)\t0.28004576701059436\n",
      "  (18686, 28553)\t0.28004576701059436\n",
      "  (18686, 85411)\t0.28004576701059436\n",
      "  (18686, 41969)\t0.28004576701059436\n",
      "  (18686, 3188)\t0.28004576701059436\n",
      "  (18686, 42060)\t0.28004576701059436\n",
      "  (18686, 62226)\t0.28004576701059436\n",
      "  (18686, 26086)\t0.2426776062049707\n",
      "  (18687, 161544)\t0.30950313698985454\n",
      "  (18687, 48145)\t0.30950313698985454\n",
      "  (18687, 169087)\t0.30950313698985454\n",
      "  (18687, 181033)\t0.30950313698985454\n",
      "  (18687, 66191)\t0.30950313698985454\n",
      "  (18687, 34033)\t0.30950313698985454\n",
      "  (18687, 41400)\t0.30950313698985454\n",
      "  (18687, 119897)\t0.30950313698985454\n",
      "  (18687, 126639)\t0.30950313698985454\n",
      "  (18687, 161296)\t0.25012334381992885\n",
      "  (18687, 196145)\t0.1785790065293455\n",
      "  (18687, 111387)\t0.2083701635174381\n",
      "  (18688, 61453)\t0.7071067811865475\n",
      "  (18688, 142331)\t0.7071067811865475\n"
     ]
    }
   ],
   "source": [
    "print(tfidf_train)"
   ]
  },
  {
   "cell_type": "code",
   "execution_count": 33,
   "id": "39226fdd",
   "metadata": {},
   "outputs": [],
   "source": [
    "from sklearn.linear_model import LogisticRegression\n",
    "from sklearn.metrics import accuracy_score"
   ]
  },
  {
   "cell_type": "code",
   "execution_count": 34,
   "id": "e34efc96",
   "metadata": {},
   "outputs": [
    {
     "name": "stdout",
     "output_type": "stream",
     "text": [
      "91.99036918138042\n"
     ]
    }
   ],
   "source": [
    "model_1 = LogisticRegression(max_iter=900)\n",
    "model_1.fit(tfidf_train,y_train)\n",
    "pred_1 = model_1.predict(tfidf_test)\n",
    "cr1 = accuracy_score(y_test,pred_1)\n",
    "print(cr1*100)"
   ]
  },
  {
   "cell_type": "code",
   "execution_count": 35,
   "id": "c69ac572",
   "metadata": {},
   "outputs": [
    {
     "data": {
      "text/plain": [
       "PassiveAggressiveClassifier(max_iter=50)"
      ]
     },
     "execution_count": 35,
     "metadata": {},
     "output_type": "execute_result"
    }
   ],
   "source": [
    "from sklearn.linear_model import PassiveAggressiveClassifier\n",
    "\n",
    "model = PassiveAggressiveClassifier(max_iter=50)\n",
    "model.fit(tfidf_train, y_train)"
   ]
  },
  {
   "cell_type": "code",
   "execution_count": 36,
   "id": "55d0aa1b",
   "metadata": {},
   "outputs": [
    {
     "name": "stdout",
     "output_type": "stream",
     "text": [
      "The accuracy of prediction is 94.47833065810593\n"
     ]
    }
   ],
   "source": [
    "y_pred = model.predict(tfidf_test)\n",
    "accscore = accuracy_score(y_test, y_pred)\n",
    "print('The accuracy of prediction is' ,accscore*100)"
   ]
  },
  {
   "cell_type": "code",
   "execution_count": null,
   "id": "388c3576",
   "metadata": {},
   "outputs": [],
   "source": []
  }
 ],
 "metadata": {
  "kernelspec": {
   "display_name": "Python 3 (ipykernel)",
   "language": "python",
   "name": "python3"
  },
  "language_info": {
   "codemirror_mode": {
    "name": "ipython",
    "version": 3
   },
   "file_extension": ".py",
   "mimetype": "text/x-python",
   "name": "python",
   "nbconvert_exporter": "python",
   "pygments_lexer": "ipython3",
   "version": "3.9.13"
  }
 },
 "nbformat": 4,
 "nbformat_minor": 5
}
